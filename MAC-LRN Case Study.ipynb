{
 "cells": [
  {
   "cell_type": "markdown",
   "metadata": {},
   "source": [
    "# MAC-LRN Case Study\n",
    "   ## Members:\n",
    "   ### Caguiat, EJ\n",
    "   ### Caro, Patricia\n",
    "   ### Dienzo, Jericho Rafael\n",
    " \n",
    "## Dataset: \"Titanic: Machine Learning from Disaster\"\n",
    "\n",
    " \n",
    " \n",
    " \n",
    " \n"
   ]
  },
  {
   "cell_type": "markdown",
   "metadata": {},
   "source": [
    "# Introduction of the problem and dataset\n",
    "### The training dataset that we are currently using describes different features for each passenger aboard the Titanic and shows whether or not they survived. The task is to correctly classify whether or not a given person with a given set of features (from the test dataset) would survive based on the training dataset.\n",
    "#### The link to the kaggle dataset that we used: https://www.kaggle.com/c/titanic"
   ]
  },
  {
   "cell_type": "markdown",
   "metadata": {},
   "source": [
    "# List of requirements\n",
    "### The list of requirements that we used, and what we think are necessary in order to tackle this problem, are:\n",
    "#### - Pandas (A Python library built on NumPy which is commonly used for machine learning problems)\n",
    "#### - NumPy (A Python library used to process numerical data)\n",
    "#### - The Kaggle Dataset (specifically the Titanic dataset) which can be obtained from the link provided above\n",
    "#### - Matplotlib (A Python library used for plotting)\n",
    "#### - Seaborn (A Python for data visualization)"
   ]
  },
  {
   "cell_type": "markdown",
   "metadata": {},
   "source": [
    "### Import of necessary libraries and data sets"
   ]
  },
  {
   "cell_type": "code",
   "execution_count": 158,
   "metadata": {},
   "outputs": [],
   "source": [
    "import pandas as pd\n",
    "import numpy as np\n",
    "import seaborn as sns\n",
    "trainfile = pd.read_csv(\"/Users/Jericho/Documents/Subjects/MAC-LRN/all/train.csv\")\n",
    "testfile = pd.read_csv(\"/Users/Jericho/Documents/Subjects/MAC-LRN/all/test.csv\")"
   ]
  },
  {
   "cell_type": "markdown",
   "metadata": {},
   "source": [
    "# Data analysis\n",
    "### The dataset that we used had many different features per person, all of which we deemed necessary in determining whether or not the person would live, except for the Passenger ID, ticket field and cabin(more on this later). There were many anomalies in the dataset, such as null fields, fields that contained different datatypes than intended (int fields having chars), etc. Thus the data cleaning."
   ]
  },
  {
   "cell_type": "code",
   "execution_count": null,
   "metadata": {},
   "outputs": [],
   "source": []
  },
  {
   "cell_type": "markdown",
   "metadata": {},
   "source": [
    "# Data Cleaning\n",
    "### The removal of PassengerId was done because it had no bearing on whether or not the person would survive. \n",
    "### The removal of the Ticket field was also done for the same reasons as the PassengerId. It is also hard to identify exactly what the Ticket field is specifying (if anything at all).\n",
    "### The cabin field might appear as important in determining whether or not a person lives as the other features/factors (after all, the people residing in nearest cabins to the top of the ship have a better chance of surviving), but upon closer inspection, one would come to realize that the Ticket field is nothing but an unnecessary field presenting redundant information. It presents the same data as the Fare and PClass, in that you can already derive a person's status from the Fare and PClass. We can then infer exactly what the person's social status is and, as a result, be able to infer where they are staying on the ship. "
   ]
  },
  {
   "cell_type": "code",
   "execution_count": 159,
   "metadata": {},
   "outputs": [
    {
     "name": "stdout",
     "output_type": "stream",
     "text": [
      "     Survived  Pclass                                               Name  \\\n",
      "0           0       3                            Braund, Mr. Owen Harris   \n",
      "1           1       1  Cumings, Mrs. John Bradley (Florence Briggs Th...   \n",
      "2           1       3                             Heikkinen, Miss. Laina   \n",
      "3           1       1       Futrelle, Mrs. Jacques Heath (Lily May Peel)   \n",
      "4           0       3                           Allen, Mr. William Henry   \n",
      "5           0       3                                   Moran, Mr. James   \n",
      "6           0       1                            McCarthy, Mr. Timothy J   \n",
      "7           0       3                     Palsson, Master. Gosta Leonard   \n",
      "8           1       3  Johnson, Mrs. Oscar W (Elisabeth Vilhelmina Berg)   \n",
      "9           1       2                Nasser, Mrs. Nicholas (Adele Achem)   \n",
      "10          1       3                    Sandstrom, Miss. Marguerite Rut   \n",
      "11          1       1                           Bonnell, Miss. Elizabeth   \n",
      "12          0       3                     Saundercock, Mr. William Henry   \n",
      "13          0       3                        Andersson, Mr. Anders Johan   \n",
      "14          0       3               Vestrom, Miss. Hulda Amanda Adolfina   \n",
      "15          1       2                   Hewlett, Mrs. (Mary D Kingcome)    \n",
      "16          0       3                               Rice, Master. Eugene   \n",
      "17          1       2                       Williams, Mr. Charles Eugene   \n",
      "18          0       3  Vander Planke, Mrs. Julius (Emelia Maria Vande...   \n",
      "19          1       3                            Masselmani, Mrs. Fatima   \n",
      "20          0       2                               Fynney, Mr. Joseph J   \n",
      "21          1       2                              Beesley, Mr. Lawrence   \n",
      "22          1       3                        McGowan, Miss. Anna \"Annie\"   \n",
      "23          1       1                       Sloper, Mr. William Thompson   \n",
      "24          0       3                      Palsson, Miss. Torborg Danira   \n",
      "25          1       3  Asplund, Mrs. Carl Oscar (Selma Augusta Emilia...   \n",
      "26          0       3                            Emir, Mr. Farred Chehab   \n",
      "27          0       1                     Fortune, Mr. Charles Alexander   \n",
      "28          1       3                      O'Dwyer, Miss. Ellen \"Nellie\"   \n",
      "29          0       3                                Todoroff, Mr. Lalio   \n",
      "..        ...     ...                                                ...   \n",
      "861         0       2                        Giles, Mr. Frederick Edward   \n",
      "862         1       1  Swift, Mrs. Frederick Joel (Margaret Welles Ba...   \n",
      "863         0       3                  Sage, Miss. Dorothy Edith \"Dolly\"   \n",
      "864         0       2                             Gill, Mr. John William   \n",
      "865         1       2                           Bystrom, Mrs. (Karolina)   \n",
      "866         1       2                       Duran y More, Miss. Asuncion   \n",
      "867         0       1               Roebling, Mr. Washington Augustus II   \n",
      "868         0       3                        van Melkebeke, Mr. Philemon   \n",
      "869         1       3                    Johnson, Master. Harold Theodor   \n",
      "870         0       3                                  Balkic, Mr. Cerin   \n",
      "871         1       1   Beckwith, Mrs. Richard Leonard (Sallie Monypeny)   \n",
      "872         0       1                           Carlsson, Mr. Frans Olof   \n",
      "873         0       3                        Vander Cruyssen, Mr. Victor   \n",
      "874         1       2              Abelson, Mrs. Samuel (Hannah Wizosky)   \n",
      "875         1       3                   Najib, Miss. Adele Kiamie \"Jane\"   \n",
      "876         0       3                      Gustafsson, Mr. Alfred Ossian   \n",
      "877         0       3                               Petroff, Mr. Nedelio   \n",
      "878         0       3                                 Laleff, Mr. Kristo   \n",
      "879         1       1      Potter, Mrs. Thomas Jr (Lily Alexenia Wilson)   \n",
      "880         1       2       Shelley, Mrs. William (Imanita Parrish Hall)   \n",
      "881         0       3                                 Markun, Mr. Johann   \n",
      "882         0       3                       Dahlberg, Miss. Gerda Ulrika   \n",
      "883         0       2                      Banfield, Mr. Frederick James   \n",
      "884         0       3                             Sutehall, Mr. Henry Jr   \n",
      "885         0       3               Rice, Mrs. William (Margaret Norton)   \n",
      "886         0       2                              Montvila, Rev. Juozas   \n",
      "887         1       1                       Graham, Miss. Margaret Edith   \n",
      "888         0       3           Johnston, Miss. Catherine Helen \"Carrie\"   \n",
      "889         1       1                              Behr, Mr. Karl Howell   \n",
      "890         0       3                                Dooley, Mr. Patrick   \n",
      "\n",
      "        Sex        Age  SibSp  Parch      Fare Embarked  \n",
      "0      male  22.000000      1      0    7.2500        S  \n",
      "1    female  38.000000      1      0   71.2833        C  \n",
      "2    female  26.000000      0      0    7.9250        S  \n",
      "3    female  35.000000      1      0   53.1000        S  \n",
      "4      male  35.000000      0      0    8.0500        S  \n",
      "5      male  41.567786      0      0    8.4583        Q  \n",
      "6      male  54.000000      0      0   51.8625        S  \n",
      "7      male   2.000000      3      1   21.0750        S  \n",
      "8    female  27.000000      0      2   11.1333        S  \n",
      "9    female  14.000000      1      0   30.0708        C  \n",
      "10   female   4.000000      1      1   16.7000        S  \n",
      "11   female  58.000000      0      0   26.5500        S  \n",
      "12     male  20.000000      0      0    8.0500        S  \n",
      "13     male  39.000000      1      5   31.2750        S  \n",
      "14   female  14.000000      0      0    7.8542        S  \n",
      "15   female  55.000000      0      0   16.0000        S  \n",
      "16     male   2.000000      4      1   29.1250        Q  \n",
      "17     male  20.534689      0      0   13.0000        S  \n",
      "18   female  31.000000      1      0   18.0000        S  \n",
      "19   female  10.141987      0      0    7.2250        C  \n",
      "20     male  35.000000      0      0   26.0000        S  \n",
      "21     male  34.000000      0      0   13.0000        S  \n",
      "22   female  15.000000      0      0    8.0292        Q  \n",
      "23     male  28.000000      0      0   35.5000        S  \n",
      "24   female   8.000000      3      1   21.0750        S  \n",
      "25   female  38.000000      1      5   31.3875        S  \n",
      "26     male  31.907001      0      0    7.2250        C  \n",
      "27     male  19.000000      3      2  263.0000        S  \n",
      "28   female   2.223000      0      0    7.8792        Q  \n",
      "29     male  38.524410      0      0    7.8958        S  \n",
      "..      ...        ...    ...    ...       ...      ...  \n",
      "861    male  21.000000      1      0   11.5000        S  \n",
      "862  female  48.000000      0      0   25.9292        S  \n",
      "863  female  64.565088      8      2   69.5500        S  \n",
      "864    male  24.000000      0      0   13.0000        S  \n",
      "865  female  42.000000      0      0   13.0000        S  \n",
      "866  female  27.000000      1      0   13.8583        C  \n",
      "867    male  31.000000      0      0   50.4958        S  \n",
      "868    male  57.384142      0      0    9.5000        S  \n",
      "869    male   4.000000      1      1   11.1333        S  \n",
      "870    male  26.000000      0      0    7.8958        S  \n",
      "871  female  47.000000      1      1   52.5542        S  \n",
      "872    male  33.000000      0      0    5.0000        S  \n",
      "873    male  47.000000      0      0    9.0000        S  \n",
      "874  female  28.000000      1      0   24.0000        C  \n",
      "875  female  15.000000      0      0    7.2250        C  \n",
      "876    male  20.000000      0      0    9.8458        S  \n",
      "877    male  19.000000      0      0    7.8958        S  \n",
      "878    male  16.101017      0      0    7.8958        S  \n",
      "879  female  56.000000      0      1   83.1583        C  \n",
      "880  female  25.000000      0      1   26.0000        S  \n",
      "881    male  33.000000      0      0    7.8958        S  \n",
      "882  female  22.000000      0      0   10.5167        S  \n",
      "883    male  28.000000      0      0   10.5000        S  \n",
      "884    male  25.000000      0      0    7.0500        S  \n",
      "885  female  39.000000      0      5   29.1250        Q  \n",
      "886    male  27.000000      0      0   13.0000        S  \n",
      "887  female  19.000000      0      0   30.0000        S  \n",
      "888  female  66.283514      1      2   23.4500        S  \n",
      "889    male  26.000000      0      0   30.0000        C  \n",
      "890    male  32.000000      0      0    7.7500        Q  \n",
      "\n",
      "[891 rows x 9 columns]\n"
     ]
    }
   ],
   "source": [
    "columnsdropped = ['PassengerId', 'Ticket', 'Cabin']\n",
    "trainfile.drop(columnsdropped, inplace = True, axis = 1)\n",
    "for x in range(0, trainfile['Age'].size - 1):\n",
    "    if pd.isnull(trainfile.Age.iloc[x]):\n",
    "        trainfile.at[x, 'Age'] = np.random.uniform(low = trainfile.Age.min(), high = trainfile.Age.max())\n",
    "\n",
    "print(trainfile)"
   ]
  },
  {
   "cell_type": "code",
   "execution_count": 160,
   "metadata": {},
   "outputs": [],
   "source": [
    "trainfile.fillna(np.random.uniform(low = trainfile.Age.min(), high = trainfile.Age.max()), inplace = True)"
   ]
  }
 ],
 "metadata": {
  "kernelspec": {
   "display_name": "Python 3",
   "language": "python",
   "name": "python3"
  },
  "language_info": {
   "codemirror_mode": {
    "name": "ipython",
    "version": 3
   },
   "file_extension": ".py",
   "mimetype": "text/x-python",
   "name": "python",
   "nbconvert_exporter": "python",
   "pygments_lexer": "ipython3",
   "version": "3.6.5"
  }
 },
 "nbformat": 4,
 "nbformat_minor": 2
}
